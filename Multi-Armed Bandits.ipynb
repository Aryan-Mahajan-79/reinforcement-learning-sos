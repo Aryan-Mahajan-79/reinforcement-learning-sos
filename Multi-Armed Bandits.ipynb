{
 "cells": [
  {
   "cell_type": "code",
   "execution_count": 1,
   "id": "5be55284",
   "metadata": {},
   "outputs": [],
   "source": [
    "import numpy as np\n",
    "import matplotlib.pyplot as plt\n",
    "import math"
   ]
  },
  {
   "cell_type": "code",
   "execution_count": 57,
   "id": "c265955d",
   "metadata": {},
   "outputs": [],
   "source": [
    "# Example with different standard deviations\n",
    "std_devs = [0.5, 1, 2]\n",
    "mean = 0\n",
    "\n",
    "for std_dev in std_devs:\n",
    "    data = np.random.normal(mean, std_dev, 100000)\n",
    "#     print(np.std(data))\n",
    "#     plt.hist(data, bins=30, density=True, alpha=0.6, color='b')\n",
    "\n",
    "#     xmin, xmax = plt.xlim()\n",
    "    x = np.linspace(xmin, xmax, 100)\n",
    "    p = (1/(np.sqrt(2*np.pi)*std_dev)) * np.exp(-(x-mean)**2/(2*std_dev**2))\n",
    "#     plt.plot(x, p, 'k', linewidth=2)\n",
    "    \n",
    "    title = f\"Fit results: mean = {mean},  std dev = {std_dev}\"\n",
    "#     plt.title(title)\n",
    "#     plt.show()"
   ]
  },
  {
   "cell_type": "code",
   "execution_count": 58,
   "id": "e0e17680",
   "metadata": {},
   "outputs": [],
   "source": [
    "k = 10\n",
    "std_dev = 1\n",
    "epsilon = 0\n",
    "N = 2000"
   ]
  },
  {
   "cell_type": "code",
   "execution_count": 59,
   "id": "3ad3f3bd",
   "metadata": {},
   "outputs": [],
   "source": [
    "q_stars = []\n",
    "for i in range(k):\n",
    "    q_stars.append(np.random.random()*4 - 2)"
   ]
  },
  {
   "cell_type": "code",
   "execution_count": 60,
   "id": "27fb283a",
   "metadata": {},
   "outputs": [
    {
     "data": {
      "text/plain": [
       "[-1.829241088989352,\n",
       " 0.5547890687420374,\n",
       " 1.1891834891012976,\n",
       " -0.6523464961568974,\n",
       " 0.20553508994996506,\n",
       " -0.8606389331253839,\n",
       " 1.8706455545145366,\n",
       " -1.0404010353307402,\n",
       " 0.03657651732127354,\n",
       " -0.38495994303837433]"
      ]
     },
     "execution_count": 60,
     "metadata": {},
     "output_type": "execute_result"
    }
   ],
   "source": [
    "q_stars"
   ]
  },
  {
   "cell_type": "code",
   "execution_count": 61,
   "id": "2fadcb71",
   "metadata": {},
   "outputs": [
    {
     "data": {
      "text/plain": [
       "array([[0., 0., 0., ..., 0., 0., 0.],\n",
       "       [0., 0., 0., ..., 0., 0., 0.],\n",
       "       [0., 0., 0., ..., 0., 0., 0.],\n",
       "       ...,\n",
       "       [0., 0., 0., ..., 0., 0., 0.],\n",
       "       [0., 0., 0., ..., 0., 0., 0.],\n",
       "       [0., 0., 0., ..., 0., 0., 0.]])"
      ]
     },
     "execution_count": 61,
     "metadata": {},
     "output_type": "execute_result"
    }
   ],
   "source": [
    "games = np.zeros((k, N))\n",
    "games"
   ]
  },
  {
   "cell_type": "code",
   "execution_count": 62,
   "id": "0dfbe320",
   "metadata": {},
   "outputs": [
    {
     "data": {
      "text/plain": [
       "array([[-4.11520923e-01, -8.85831824e-01, -1.35791835e+00, ...,\n",
       "        -1.43491972e+00, -2.16478344e+00, -2.10517031e+00],\n",
       "       [-5.85797247e-01, -8.31212123e-01, -7.68803421e-01, ...,\n",
       "         1.73717025e+00,  1.17881379e+00, -2.53782451e-01],\n",
       "       [ 2.75501640e-01,  1.43986204e+00,  3.40417655e+00, ...,\n",
       "         1.24381289e+00,  8.06251210e-01,  1.02712281e+00],\n",
       "       ...,\n",
       "       [ 8.19291568e-01, -1.65727237e+00, -4.28842025e-01, ...,\n",
       "        -1.02650819e+00, -1.43325567e-01, -3.31321212e+00],\n",
       "       [ 4.34461510e-01,  2.31499332e-01,  1.10767236e+00, ...,\n",
       "         5.89704502e-01, -9.14868565e-01, -2.00515181e+00],\n",
       "       [-2.03455336e-01,  2.23697021e-01, -1.10808367e+00, ...,\n",
       "        -5.13232966e-01,  3.01576196e-03, -7.12970484e-01]])"
      ]
     },
     "execution_count": 62,
     "metadata": {},
     "output_type": "execute_result"
    }
   ],
   "source": [
    "for i in range(k):\n",
    "    q_star = q_stars[i]\n",
    "    games[i] = np.random.normal(q_star, std_dev, N)\n",
    "games"
   ]
  },
  {
   "cell_type": "code",
   "execution_count": 63,
   "id": "4ebbdfbc",
   "metadata": {},
   "outputs": [],
   "source": [
    "def run(eps):\n",
    "    reward = np.zeros((N))\n",
    "    Q_t = [0,]*k\n",
    "    freq = [0,]*k\n",
    "    index = np.zeros(N)\n",
    "    for i in range(k):\n",
    "        A = i\n",
    "        index[i] = A\n",
    "        R = games[i][A]\n",
    "        reward[i] = reward[i-1] + R\n",
    "        Q_t[A] = R\n",
    "        freq[A] = 1\n",
    "#     print(Q_t)\n",
    "    for i in range(k, N):\n",
    "        if np.random.random() > eps:\n",
    "            A = Q_t.index(max(Q_t))\n",
    "    #         print(A)\n",
    "            R = games[A][i]\n",
    "            reward[i] = reward[i-1] + R\n",
    "            freq[A] += 1\n",
    "            Q_t[A] += (1/freq[A])*(R - Q_t[A])\n",
    "        else:\n",
    "            A = math.floor(np.random.random()*10)\n",
    "    #         print(A)\n",
    "            R = games[A][i]\n",
    "            reward[i] = reward[i-1] + R\n",
    "            freq[A] += 1\n",
    "            Q_t[A] += (1/freq[A])*(R - Q_t[A])\n",
    "        index[i] = A\n",
    "    return(reward)"
   ]
  },
  {
   "cell_type": "code",
   "execution_count": 64,
   "id": "0b445f2a",
   "metadata": {},
   "outputs": [
    {
     "data": {
      "text/plain": [
       "array([1.87064555e+00, 3.74129111e+00, 5.61193666e+00, ...,\n",
       "       3.73754982e+03, 3.73942046e+03, 3.74129111e+03])"
      ]
     },
     "execution_count": 64,
     "metadata": {},
     "output_type": "execute_result"
    }
   ],
   "source": [
    "optimal = (np.arange(N)+1)*max(q_stars)\n",
    "optimal"
   ]
  },
  {
   "cell_type": "code",
   "execution_count": 65,
   "id": "22b8c4eb",
   "metadata": {},
   "outputs": [
    {
     "data": {
      "image/png": "[encoded data removed]",
      "text/plain": [
       "<Figure size 432x288 with 1 Axes>"
      ]
     },
     "metadata": {
      "needs_background": "light"
     },
     "output_type": "display_data"
    }
   ],
   "source": [
    "plt.plot(np.arange(N), run(0)/optimal, color='r')\n",
    "plt.plot(np.arange(N), run(0.01)/optimal, color='g')\n",
    "plt.plot(np.arange(N), run(0.1)/optimal, color='b')\n",
    "plt.plot(np.arange(N), run(0.9)/optimal, color='black')\n",
    "plt.plot(np.arange(N), run(0.001)/optimal, color='yellow')\n",
    "plt.show()"
   ]
  },
  {
   "cell_type": "code",
   "execution_count": 66,
   "id": "15246c0b",
   "metadata": {},
   "outputs": [
    {
     "data": {
      "image/png": "[encoded data removed]",
      "text/plain": [
       "<Figure size 432x288 with 1 Axes>"
      ]
     },
     "metadata": {
      "needs_background": "light"
     },
     "output_type": "display_data"
    }
   ],
   "source": [
    "plt.plot(np.arange(N), run(0)/(np.arange(N)+1), color='r')\n",
    "plt.plot(np.arange(N), run(0.01)/(np.arange(N)+1), color='g')\n",
    "plt.plot(np.arange(N), run(0.1)/(np.arange(N)+1), color='b')\n",
    "plt.plot(np.arange(N), run(0.9)/(np.arange(N)+1), color='black')\n",
    "plt.plot(np.arange(N), run(0.001)/(np.arange(N)+1), color='yellow')\n",
    "plt.show()"
   ]
  },
  {
   "cell_type": "code",
   "execution_count": null,
   "id": "ae53fc3f",
   "metadata": {},
   "outputs": [],
   "source": []
  },
  {
   "cell_type": "code",
   "execution_count": null,
   "id": "5072ff35",
   "metadata": {},
   "outputs": [],
   "source": []
  }
 ],
 "metadata": {
  "kernelspec": {
   "display_name": "Python 3 (ipykernel)",
   "language": "python",
   "name": "python3"
  },
  "language_info": {
   "codemirror_mode": {
    "name": "ipython",
    "version": 3
   },
   "file_extension": ".py",
   "mimetype": "text/x-python",
   "name": "python",
   "nbconvert_exporter": "python",
   "pygments_lexer": "ipython3",
   "version": "3.10.12"
  }
 },
 "nbformat": 4,
 "nbformat_minor": 5
}

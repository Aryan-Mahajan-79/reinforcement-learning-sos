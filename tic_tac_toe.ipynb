{
 "cells": [
  {
   "cell_type": "markdown",
   "metadata": {},
   "source": [
    "# Tic-Tac-Toe"
   ]
  },
  {
   "cell_type": "code",
   "execution_count": 11,
   "metadata": {},
   "outputs": [],
   "source": [
    "class Engine:\n",
    "    def __init__(self):\n",
    "        self.board = [\n",
    "            ['0', '0', '0'],\n",
    "            ['0', '0', '0'],\n",
    "            ['0', '0', '0']\n",
    "        ]\n",
    "        self.turn = 'X'\n",
    "\n",
    "    def get_valid_moves(self):\n",
    "        moves = []\n",
    "        for i in range(3):\n",
    "            for j in range(3):\n",
    "                if self.board[i][j] == '0':\n",
    "                    moves.append((i, j))\n",
    "        return moves\n",
    "    \n",
    "    def make_move(self, move):\n",
    "        i, j = move\n",
    "        self.board[i][j] = self.turn\n",
    "        self.turn = 'X' if self.turn == 'O' else 'O'\n",
    "\n",
    "    def undo_move(self, move):\n",
    "        i, j = move\n",
    "        self.board[i][j] = '0'\n",
    "        self.turn = 'X' if self.turn == 'O' else 'O'\n",
    "    \n",
    "    def check_winner(self):\n",
    "        for i in range(3):\n",
    "            if self.board[i][0] == self.board[i][1] == self.board[i][2] != '0':\n",
    "                return self.board[i][0]\n",
    "            if self.board[0][i] == self.board[1][i] == self.board[2][i] != '0':\n",
    "                return self.board[0][i]\n",
    "        if self.board[0][0] == self.board[1][1] == self.board[2][2] != '0':\n",
    "            return self.board[0][0]\n",
    "        if self.board[0][2] == self.board[1][1] == self.board[2][0] != '0':\n",
    "            return self.board[0][2]\n",
    "        return '0'\n",
    "\n",
    "    def is_game_over(self):\n",
    "        return self.check_winner() != '0' or len(self.get_valid_moves()) == 0\n",
    "    \n",
    "    def get_random_move(self):\n",
    "        import random\n",
    "        return random.choice(self.get_valid_moves())\n",
    "    \n",
    "    def get_board_string(self):\n",
    "        return ''.join([''.join(row) for row in self.board])\n",
    "    \n",
    "    def get_children_strings(self):\n",
    "        children = []\n",
    "        for move in self.get_valid_moves():\n",
    "            self.make_move(move)\n",
    "            children.append(self.get_board_string())\n",
    "            self.undo_move(move)\n",
    "        return children\n",
    "    \n",
    "    @staticmethod\n",
    "    def check_child_win(child_string):\n",
    "        for i in range(3):\n",
    "            if child_string[i*3] == child_string[i*3+1] == child_string[i*3+2] != '0':\n",
    "                return child_string[i*3]\n",
    "            if child_string[i] == child_string[i+3] == child_string[i+6] != '0':\n",
    "                return child_string[i]\n",
    "        if child_string[0] == child_string[4] == child_string[8] != '0':\n",
    "            return child_string[0]\n",
    "        if child_string[2] == child_string[4] == child_string[6] != '0':\n",
    "            return child_string[2]\n",
    "        return '0'\n",
    "    \n",
    "    def get_move(self, child_string):\n",
    "        for i in range(9):\n",
    "            if child_string[i] != self.get_board_string()[i]:\n",
    "                return (i//3, i%3)"
   ]
  },
  {
   "cell_type": "code",
   "execution_count": 9,
   "metadata": {},
   "outputs": [],
   "source": [
    "mdp = dict()"
   ]
  },
  {
   "cell_type": "code",
   "execution_count": 16,
   "metadata": {},
   "outputs": [
    {
     "name": "stdout",
     "output_type": "stream",
     "text": [
      "000000000 X00000000 (0, 0)\n",
      "{'X00000000': 0, '0X0000000': 0, '00X000000': 0, '000X00000': 0, '0000X0000': 0, '00000X000': 0, '000000X00': 0, '0000000X0': 0, '00000000X': 0, '000000000': 0, 'XX00000O0': 0, 'X0X0000O0': 0, 'X00X000O0': 0, 'X000X00O0': 0, 'X0000X0O0': 0, 'X00000XO0': 0, 'X000000OX': 0, 'XX000O000': 0, 'X0X00O000': 0, 'X00X0O000': 0, 'X000XO000': 0, 'X0000OX00': 0, 'X0000O0X0': 0, 'X0000O00X': 0, 'XX000000O': 0, 'X0X00000O': 0, 'X00X0000O': 0, 'X000X000O': 0, 'X0000X00O': 0, 'X00000X0O': 0, 'X000000XO': 0}\n",
      "X000000O0 XX00000O0 (0, 1)\n",
      "{'X00000000': 0, '0X0000000': 0, '00X000000': 0, '000X00000': 0, '0000X0000': 0, '00000X000': 0, '000000X00': 0, '0000000X0': 0, '00000000X': 0, '000000000': 0.0, 'XX00000O0': 0, 'X0X0000O0': 0, 'X00X000O0': 0, 'X000X00O0': 0, 'X0000X0O0': 0, 'X00000XO0': 0, 'X000000OX': 0, 'XX000O000': 0, 'X0X00O000': 0, 'X00X0O000': 0, 'X000XO000': 0, 'X0000OX00': 0, 'X0000O0X0': 0, 'X0000O00X': 0, 'XX000000O': 0, 'X0X00000O': 0, 'X00X0000O': 0, 'X000X000O': 0, 'X0000X00O': 0, 'X00000X0O': 0, 'X000000XO': 0}\n"
     ]
    },
    {
     "ename": "KeyError",
     "evalue": "'X000000O0'",
     "output_type": "error",
     "traceback": [
      "\u001b[0;31m---------------------------------------------------------------------------\u001b[0m",
      "\u001b[0;31mKeyError\u001b[0m                                  Traceback (most recent call last)",
      "\u001b[0;32m/tmp/ipykernel_67146/932988634.py\u001b[0m in \u001b[0;36m<module>\u001b[0;34m\u001b[0m\n\u001b[1;32m     28\u001b[0m             \u001b[0mprint\u001b[0m\u001b[0;34m(\u001b[0m\u001b[0mboard\u001b[0m\u001b[0;34m,\u001b[0m \u001b[0mchild\u001b[0m\u001b[0;34m,\u001b[0m \u001b[0mmove\u001b[0m\u001b[0;34m)\u001b[0m\u001b[0;34m\u001b[0m\u001b[0;34m\u001b[0m\u001b[0m\n\u001b[1;32m     29\u001b[0m             \u001b[0mprint\u001b[0m\u001b[0;34m(\u001b[0m\u001b[0mmdp\u001b[0m\u001b[0;34m)\u001b[0m\u001b[0;34m\u001b[0m\u001b[0;34m\u001b[0m\u001b[0m\n\u001b[0;32m---> 30\u001b[0;31m             \u001b[0mmdp\u001b[0m\u001b[0;34m[\u001b[0m\u001b[0mboard\u001b[0m\u001b[0;34m]\u001b[0m \u001b[0;34m+=\u001b[0m \u001b[0;36m0.1\u001b[0m\u001b[0;34m*\u001b[0m\u001b[0;34m(\u001b[0m\u001b[0mmdp\u001b[0m\u001b[0;34m[\u001b[0m\u001b[0mchild\u001b[0m\u001b[0;34m]\u001b[0m \u001b[0;34m-\u001b[0m \u001b[0mmdp\u001b[0m\u001b[0;34m[\u001b[0m\u001b[0mboard\u001b[0m\u001b[0;34m]\u001b[0m\u001b[0;34m)\u001b[0m\u001b[0;34m\u001b[0m\u001b[0;34m\u001b[0m\u001b[0m\n\u001b[0m\u001b[1;32m     31\u001b[0m         \u001b[0mmove\u001b[0m \u001b[0;34m=\u001b[0m \u001b[0mengine\u001b[0m\u001b[0;34m.\u001b[0m\u001b[0mget_random_move\u001b[0m\u001b[0;34m(\u001b[0m\u001b[0;34m)\u001b[0m\u001b[0;34m\u001b[0m\u001b[0;34m\u001b[0m\u001b[0m\n\u001b[1;32m     32\u001b[0m         \u001b[0mengine\u001b[0m\u001b[0;34m.\u001b[0m\u001b[0mmake_move\u001b[0m\u001b[0;34m(\u001b[0m\u001b[0mmove\u001b[0m\u001b[0;34m)\u001b[0m\u001b[0;34m\u001b[0m\u001b[0;34m\u001b[0m\u001b[0m\n",
      "\u001b[0;31mKeyError\u001b[0m: 'X000000O0'"
     ]
    }
   ],
   "source": [
    "import random\n",
    "epsilon = 0.1\n",
    "mdp['000000000'] = 0\n",
    "for i in range(10**3):\n",
    "    engine = Engine()\n",
    "    while not engine.is_game_over():\n",
    "        board = engine.get_board_string()\n",
    "        children = engine.get_children_strings()\n",
    "        child_mdp = dict()\n",
    "        for child in children:\n",
    "            if child not in mdp:\n",
    "                if engine.check_child_win(child) == 'X':\n",
    "                    mdp[child] = 1\n",
    "                elif engine.check_child_win(child) == 'O':\n",
    "                    mdp[child] = -1\n",
    "                else:\n",
    "                    mdp[child] = 0\n",
    "            child_mdp[child] = mdp[child]\n",
    "        alpha = random.random()\n",
    "        if alpha < epsilon:\n",
    "            move = engine.get_random_move()\n",
    "            engine.make_move(move)\n",
    "            mdp[board] += 0.1*(mdp[engine.get_board_string()] - mdp[board])\n",
    "        else:\n",
    "            child = max(child_mdp, key=child_mdp.get)\n",
    "            move = engine.get_move(child)\n",
    "            engine.make_move(move)\n",
    "            print(board, child, move)\n",
    "            print(mdp)\n",
    "            mdp[board] += 0.1*(mdp[child] - mdp[board])\n",
    "        move = engine.get_random_move()\n",
    "        \n",
    "        engine.make_move(move)"
   ]
  },
  {
   "cell_type": "code",
   "execution_count": null,
   "metadata": {},
   "outputs": [],
   "source": []
  }
 ],
 "metadata": {
  "kernelspec": {
   "display_name": "Python 3 (ipykernel)",
   "language": "python",
   "name": "python3"
  },
  "language_info": {
   "codemirror_mode": {
    "name": "ipython",
    "version": 3
   },
   "file_extension": ".py",
   "mimetype": "text/x-python",
   "name": "python",
   "nbconvert_exporter": "python",
   "pygments_lexer": "ipython3",
   "version": "3.10.12"
  }
 },
 "nbformat": 4,
 "nbformat_minor": 2
}
